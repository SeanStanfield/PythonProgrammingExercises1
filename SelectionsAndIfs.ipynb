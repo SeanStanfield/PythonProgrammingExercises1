{
 "cells": [
  {
   "cell_type": "markdown",
   "metadata": {},
   "source": [
    "# SELECTION: Making decisions"
   ]
  },
  {
   "cell_type": "code",
   "execution_count": null,
   "metadata": {
    "collapsed": true
   },
   "outputs": [],
   "source": [
    "name = \"sean\"\n",
    "age = input(\"How old are you\")\n",
    "\n",
    "if age < 10:\n",
    "    print(\"you are too young\")\n",
    "else:\n",
    "    print(\"you are old enough\")\n",
    "    \n",
    "    "
   ]
  },
  {
   "cell_type": "markdown",
   "metadata": {},
   "source": [
    "More if statements"
   ]
  },
  {
   "cell_type": "code",
   "execution_count": 21,
   "metadata": {},
   "outputs": [
    {
     "name": "stdout",
     "output_type": "stream",
     "text": [
      "do you like pizza Y or N\n",
      "y\n",
      "you are The correct gender\n",
      "you are old enough to enter the party\n",
      "well done you may now enter the party as you like pizza\n"
     ]
    }
   ],
   "source": [
    "import random, time\n",
    "genders = (\"Male\",\"Female\")\n",
    "pick=random.choice(genders)\n",
    "age = random.randint(7, 12)\n",
    "pizza = input(\"do you like pizza Y or N\\n\").lower()\n",
    "\n",
    "if pick == \"Male\":\n",
    "    print (\"You are The correct gender\")\n",
    "    time.sleep(2)\n",
    "    \n",
    "    \n",
    "    if age > 9:\n",
    "        print(\"you are old enough to enter the party\")\n",
    "        time.sleep(2)\n",
    "        if pizza == \"y\":\n",
    "            print (\"well done you may now enter the party as you like pizza\")\n",
    "        else:\n",
    "            print(\"What a shame the party is for pizza lovers only\")\n",
    "    else:\n",
    "        print (\"you are not old enough to enter the party\")\n",
    "else:\n",
    "    print (\"you are not the correct gender to enter the party\")\n",
    "    \n",
    "#this program is an example of how to use nested if statements.\n",
    "#The program will only pass onto the next test if it passed the first test\n"
   ]
  },
  {
   "cell_type": "code",
   "execution_count": null,
   "metadata": {
    "collapsed": true
   },
   "outputs": [],
   "source": []
  }
 ],
 "metadata": {
  "kernelspec": {
   "display_name": "Python 3",
   "language": "python",
   "name": "python3"
  },
  "language_info": {
   "codemirror_mode": {
    "name": "ipython",
    "version": 3
   },
   "file_extension": ".py",
   "mimetype": "text/x-python",
   "name": "python",
   "nbconvert_exporter": "python",
   "pygments_lexer": "ipython3",
   "version": "3.5.2"
  }
 },
 "nbformat": 4,
 "nbformat_minor": 2
}
