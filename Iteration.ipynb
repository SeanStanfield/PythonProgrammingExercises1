{
 "cells": [
  {
   "cell_type": "markdown",
   "metadata": {},
   "source": [
    "# While loops\n",
    "\n",
    "### In python, while loops are used to the run a test until a condition is met\n"
   ]
  },
  {
   "cell_type": "code",
   "execution_count": null,
   "metadata": {},
   "outputs": [],
   "source": [
    "num = 0\n",
    "while num <= 10:\n",
    "    print (num)\n",
    "    num = num +1\n",
    "#this code will keep running until the num condition is broken "
   ]
  },
  {
   "cell_type": "code",
   "execution_count": null,
   "metadata": {},
   "outputs": [],
   "source": [
    "for counter in range (0, 10, 1):\n",
    "    print (counter)"
   ]
  },
  {
   "cell_type": "code",
   "execution_count": null,
   "metadata": {},
   "outputs": [],
   "source": [
    "import time as t\n",
    "speed = 3\n",
    "for i in range (0, 20, 1):\n",
    "    print (i)\n",
    "    t.sleep(speed)\n",
    "    speed = speed/2"
   ]
  },
  {
   "cell_type": "code",
   "execution_count": 197,
   "metadata": {
    "collapsed": true
   },
   "outputs": [],
   "source": [
    "#this does not run as there is no way of getting from 1 to 100 by going backwards\n",
    "for i in range (1, 100, -1):\n",
    "    print (i)"
   ]
  },
  {
   "cell_type": "markdown",
   "metadata": {},
   "source": []
  },
  {
   "cell_type": "code",
   "execution_count": null,
   "metadata": {},
   "outputs": [],
   "source": [
    "thing = 3\n",
    "while thing == 3:\n",
    "    thing = input(\"do u wanna continue\")"
   ]
  },
  {
   "cell_type": "code",
   "execution_count": 180,
   "metadata": {},
   "outputs": [
    {
     "name": "stdout",
     "output_type": "stream",
     "text": [
      "you did not win this time but u have 4 lives left\n",
      "you did not win this time but u have 3 lives left\n",
      "you did not win this time but u have 2 lives left\n",
      "you did not win this time but u have 1 lives left\n",
      "well done you won\n"
     ]
    }
   ],
   "source": [
    "import random\n",
    "won = False\n",
    "lives = 5\n",
    "\n",
    "while not won and lives > 0:\n",
    "    lives = lives - 1\n",
    "    x = random.randint(0,10)\n",
    "    if x == 10 or x==7 or x==5:\n",
    "        won = True\n",
    "        print (\"well done you won\")\n",
    "    else:\n",
    "        print(\"you did not win this time but u have\", lives, \"lives left\")\n",
    "        "
   ]
  },
  {
   "cell_type": "code",
   "execution_count": null,
   "metadata": {
    "collapsed": true
   },
   "outputs": [],
   "source": []
  }
 ],
 "metadata": {
  "kernelspec": {
   "display_name": "Python 3",
   "language": "python",
   "name": "python3"
  }
 },
 "nbformat": 4,
 "nbformat_minor": 2
}
